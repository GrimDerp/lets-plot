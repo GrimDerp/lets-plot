{
 "cells": [
  {
   "cell_type": "markdown",
   "id": "bca9d6e0",
   "metadata": {},
   "source": [
    "# Multi-line Labels in Facets\n",
    "\n",
    "\n",
    "The 'newline' character (`\\n`) now works as a 'line break' in the facet titles.</br> \n",
    "Automatic line breaking is performed according to the  text length limit specified with parameters `labwidth` in `facet_wrap()` and `x_labwidth`/`y_labwidth` in `facet_grid()`.\n",
    "\n",
    "The margins around the facet titles are controlled by the `margin` parameter in `element_text()`.</br> \n",
    "Horizontal and vertical justifications - using `hjust` and `vjust` parameter in `element_text()`."
   ]
  },
  {
   "cell_type": "code",
   "execution_count": 1,
   "id": "7a35b17a",
   "metadata": {},
   "outputs": [],
   "source": [
    "import pandas as pd\n",
    "from lets_plot import *"
   ]
  },
  {
   "cell_type": "code",
   "execution_count": 2,
   "id": "d9dc5b7b",
   "metadata": {},
   "outputs": [
    {
     "data": {
      "text/html": [
       "\n",
       "            <div id=\"GoF0T2\"></div>\n",
       "            <script type=\"text/javascript\" data-lets-plot-script=\"library\">\n",
       "                if(!window.letsPlotCallQueue) {\n",
       "                    window.letsPlotCallQueue = [];\n",
       "                }; \n",
       "                window.letsPlotCall = function(f) {\n",
       "                    window.letsPlotCallQueue.push(f);\n",
       "                };\n",
       "                (function() {\n",
       "                    var script = document.createElement(\"script\");\n",
       "                    script.type = \"text/javascript\";\n",
       "                    script.src = \"https://cdn.jsdelivr.net/gh/JetBrains/lets-plot@v4.3.1/js-package/distr/lets-plot.min.js\";\n",
       "                    script.onload = function() {\n",
       "                        window.letsPlotCall = function(f) {f();};\n",
       "                        window.letsPlotCallQueue.forEach(function(f) {f();});\n",
       "                        window.letsPlotCallQueue = [];\n",
       "                        \n",
       "                    };\n",
       "                    script.onerror = function(event) {\n",
       "                        window.letsPlotCall = function(f) {};    // noop\n",
       "                        window.letsPlotCallQueue = [];\n",
       "                        var div = document.createElement(\"div\");\n",
       "                        div.style.color = 'darkred';\n",
       "                        div.textContent = 'Error loading Lets-Plot JS';\n",
       "                        document.getElementById(\"GoF0T2\").appendChild(div);\n",
       "                    };\n",
       "                    var e = document.getElementById(\"GoF0T2\");\n",
       "                    e.appendChild(script);\n",
       "                })()\n",
       "            </script>\n",
       "            "
      ]
     },
     "metadata": {},
     "output_type": "display_data"
    }
   ],
   "source": [
    "LetsPlot.setup_html()"
   ]
  },
  {
   "cell_type": "code",
   "execution_count": 3,
   "id": "87276233",
   "metadata": {},
   "outputs": [],
   "source": [
    "data = pd.DataFrame.from_records([\n",
    "    (\"pet\", \"cat\", 5, \"carnivore\"),\n",
    "    (\"pet\", \"dog\", 10, \"carnivore\"),\n",
    "    (\"pet\", \"rabbit\", 2, \"herbivore\"),\n",
    "    (\"pet\", \"hamster\", 1, \"herbivore\"),\n",
    "\n",
    "    (\"farm animal\", \"cow\", 500, \"herbivore\"),\n",
    "    (\"farm animal\", \"pig\", 100, \"carnivore\"),\n",
    "    (\"farm animal\", \"horse\", 700, \"herbivore\"),\n",
    "])\n",
    "data.columns = (\"animal_type\", \"animal\", \"weight\", \"diet\")"
   ]
  },
  {
   "cell_type": "markdown",
   "id": "c90e6bbc",
   "metadata": {},
   "source": [
    "### Facet Labels"
   ]
  },
  {
   "cell_type": "code",
   "execution_count": 4,
   "id": "cb015bd8",
   "metadata": {},
   "outputs": [],
   "source": [
    "p = ggplot(data, aes(x=\"animal\", y=\"weight\")) + \\\n",
    "    geom_bar(stat=\"identity\") + \\\n",
    "    theme_bw() + \\\n",
    "    theme(panel_grid_minor=element_blank())"
   ]
  },
  {
   "cell_type": "markdown",
   "id": "d0d696e1",
   "metadata": {},
   "source": [
    "#### Default"
   ]
  },
  {
   "cell_type": "code",
   "execution_count": 5,
   "id": "ad819c31",
   "metadata": {},
   "outputs": [
    {
     "data": {
      "text/html": [
       "   <div id=\"f2TO1k\"></div>\n",
       "   <script type=\"text/javascript\" data-lets-plot-script=\"plot\">\n",
       "       (function() {\n",
       "           var plotSpec={\n",
       "\"data\":{\n",
       "\"animal_type\":[\"pet\",\"pet\",\"pet\",\"pet\",\"farm animal\",\"farm animal\",\"farm animal\"],\n",
       "\"animal\":[\"cat\",\"dog\",\"rabbit\",\"hamster\",\"cow\",\"pig\",\"horse\"],\n",
       "\"weight\":[5.0,10.0,2.0,1.0,500.0,100.0,700.0]\n",
       "},\n",
       "\"mapping\":{\n",
       "\"x\":\"animal\",\n",
       "\"y\":\"weight\"\n",
       "},\n",
       "\"data_meta\":{\n",
       "},\n",
       "\"theme\":{\n",
       "\"name\":\"bw\",\n",
       "\"panel_grid_minor\":{\n",
       "\"blank\":true\n",
       "}\n",
       "},\n",
       "\"facet\":{\n",
       "\"name\":\"wrap\",\n",
       "\"facets\":\"animal_type\",\n",
       "\"ncol\":2.0,\n",
       "\"scales\":\"free\",\n",
       "\"order\":1.0,\n",
       "\"dir\":\"h\"\n",
       "},\n",
       "\"kind\":\"plot\",\n",
       "\"scales\":[],\n",
       "\"layers\":[{\n",
       "\"geom\":\"bar\",\n",
       "\"stat\":\"identity\",\n",
       "\"mapping\":{\n",
       "},\n",
       "\"data_meta\":{\n",
       "},\n",
       "\"data\":{\n",
       "}\n",
       "}],\n",
       "\"metainfo_list\":[]\n",
       "};\n",
       "           var plotContainer = document.getElementById(\"f2TO1k\");\n",
       "           window.letsPlotCall(function() {{\n",
       "               LetsPlot.buildPlotFromProcessedSpecs(plotSpec, -1, -1, plotContainer);\n",
       "           }});\n",
       "       })();\n",
       "   </script>"
      ],
      "text/plain": [
       "<lets_plot.plot.core.PlotSpec at 0x1046f57f0>"
      ]
     },
     "execution_count": 5,
     "metadata": {},
     "output_type": "execute_result"
    }
   ],
   "source": [
    "p + facet_wrap(facets=\"animal_type\", ncol=2, scales=\"free\")"
   ]
  },
  {
   "cell_type": "markdown",
   "id": "992af030",
   "metadata": {},
   "source": [
    "#### Wrap Labels using `labwidth`-parameters"
   ]
  },
  {
   "cell_type": "code",
   "execution_count": 6,
   "id": "889c7ca6",
   "metadata": {},
   "outputs": [
    {
     "data": {
      "text/html": [
       "   <div id=\"ysnnFi\"></div>\n",
       "   <script type=\"text/javascript\" data-lets-plot-script=\"plot\">\n",
       "       (function() {\n",
       "           var plotSpec={\n",
       "\"data\":{\n",
       "\"animal_type\":[\"pet\",\"pet\",\"pet\",\"pet\",\"farm animal\",\"farm animal\",\"farm animal\"],\n",
       "\"animal\":[\"cat\",\"dog\",\"rabbit\",\"hamster\",\"cow\",\"pig\",\"horse\"],\n",
       "\"weight\":[5.0,10.0,2.0,1.0,500.0,100.0,700.0]\n",
       "},\n",
       "\"mapping\":{\n",
       "\"x\":\"animal\",\n",
       "\"y\":\"weight\"\n",
       "},\n",
       "\"data_meta\":{\n",
       "},\n",
       "\"theme\":{\n",
       "\"name\":\"bw\",\n",
       "\"panel_grid_minor\":{\n",
       "\"blank\":true\n",
       "}\n",
       "},\n",
       "\"facet\":{\n",
       "\"name\":\"wrap\",\n",
       "\"facets\":\"animal_type\",\n",
       "\"ncol\":2.0,\n",
       "\"scales\":\"free\",\n",
       "\"order\":1.0,\n",
       "\"dir\":\"h\",\n",
       "\"labwidth\":6.0\n",
       "},\n",
       "\"kind\":\"plot\",\n",
       "\"scales\":[],\n",
       "\"layers\":[{\n",
       "\"geom\":\"bar\",\n",
       "\"stat\":\"identity\",\n",
       "\"mapping\":{\n",
       "},\n",
       "\"data_meta\":{\n",
       "},\n",
       "\"data\":{\n",
       "}\n",
       "}],\n",
       "\"metainfo_list\":[]\n",
       "};\n",
       "           var plotContainer = document.getElementById(\"ysnnFi\");\n",
       "           window.letsPlotCall(function() {{\n",
       "               LetsPlot.buildPlotFromProcessedSpecs(plotSpec, -1, -1, plotContainer);\n",
       "           }});\n",
       "       })();\n",
       "   </script>"
      ],
      "text/plain": [
       "<lets_plot.plot.core.PlotSpec at 0x132fb1ac0>"
      ]
     },
     "execution_count": 6,
     "metadata": {},
     "output_type": "execute_result"
    }
   ],
   "source": [
    "p + facet_wrap(facets=\"animal_type\", ncol=2, scales=\"free\", labwidth=6)"
   ]
  },
  {
   "cell_type": "code",
   "execution_count": 7,
   "id": "eda24884",
   "metadata": {},
   "outputs": [
    {
     "data": {
      "text/html": [
       "   <div id=\"968XvC\"></div>\n",
       "   <script type=\"text/javascript\" data-lets-plot-script=\"plot\">\n",
       "       (function() {\n",
       "           var plotSpec={\n",
       "\"data\":{\n",
       "\"animal_type\":[\"pet\",\"pet\",\"pet\",\"pet\",\"farm animal\",\"farm animal\",\"farm animal\"],\n",
       "\"animal\":[\"cat\",\"dog\",\"rabbit\",\"hamster\",\"cow\",\"pig\",\"horse\"],\n",
       "\"weight\":[5.0,10.0,2.0,1.0,500.0,100.0,700.0],\n",
       "\"diet\":[\"carnivore\",\"carnivore\",\"herbivore\",\"herbivore\",\"herbivore\",\"carnivore\",\"herbivore\"]\n",
       "},\n",
       "\"mapping\":{\n",
       "\"x\":\"animal\",\n",
       "\"y\":\"weight\"\n",
       "},\n",
       "\"data_meta\":{\n",
       "},\n",
       "\"theme\":{\n",
       "\"name\":\"bw\",\n",
       "\"panel_grid_minor\":{\n",
       "\"blank\":true\n",
       "}\n",
       "},\n",
       "\"facet\":{\n",
       "\"name\":\"grid\",\n",
       "\"x\":\"animal_type\",\n",
       "\"y\":\"diet\",\n",
       "\"scales\":\"free\",\n",
       "\"x_order\":1.0,\n",
       "\"y_order\":1.0,\n",
       "\"x_labwidth\":6.0\n",
       "},\n",
       "\"kind\":\"plot\",\n",
       "\"scales\":[],\n",
       "\"layers\":[{\n",
       "\"geom\":\"bar\",\n",
       "\"stat\":\"identity\",\n",
       "\"mapping\":{\n",
       "},\n",
       "\"data_meta\":{\n",
       "},\n",
       "\"data\":{\n",
       "}\n",
       "}],\n",
       "\"metainfo_list\":[]\n",
       "};\n",
       "           var plotContainer = document.getElementById(\"968XvC\");\n",
       "           window.letsPlotCall(function() {{\n",
       "               LetsPlot.buildPlotFromProcessedSpecs(plotSpec, -1, -1, plotContainer);\n",
       "           }});\n",
       "       })();\n",
       "   </script>"
      ],
      "text/plain": [
       "<lets_plot.plot.core.PlotSpec at 0x132fb3310>"
      ]
     },
     "execution_count": 7,
     "metadata": {},
     "output_type": "execute_result"
    }
   ],
   "source": [
    "p + facet_grid(x=\"animal_type\", y=\"diet\", scales=\"free\", x_labwidth=6)"
   ]
  },
  {
   "cell_type": "markdown",
   "id": "e5fd2900",
   "metadata": {},
   "source": [
    "#### Line Breaks Using `\\n` in Facet Values"
   ]
  },
  {
   "cell_type": "code",
   "execution_count": 8,
   "id": "d08fb52b",
   "metadata": {},
   "outputs": [
    {
     "data": {
      "text/html": [
       "<div>\n",
       "<style scoped>\n",
       "    .dataframe tbody tr th:only-of-type {\n",
       "        vertical-align: middle;\n",
       "    }\n",
       "\n",
       "    .dataframe tbody tr th {\n",
       "        vertical-align: top;\n",
       "    }\n",
       "\n",
       "    .dataframe thead th {\n",
       "        text-align: right;\n",
       "    }\n",
       "</style>\n",
       "<table border=\"1\" class=\"dataframe\">\n",
       "  <thead>\n",
       "    <tr style=\"text-align: right;\">\n",
       "      <th></th>\n",
       "      <th>animal_type</th>\n",
       "      <th>animal</th>\n",
       "      <th>weight</th>\n",
       "      <th>diet</th>\n",
       "    </tr>\n",
       "  </thead>\n",
       "  <tbody>\n",
       "    <tr>\n",
       "      <th>0</th>\n",
       "      <td>pet</td>\n",
       "      <td>cat</td>\n",
       "      <td>5</td>\n",
       "      <td>carnivore</td>\n",
       "    </tr>\n",
       "    <tr>\n",
       "      <th>1</th>\n",
       "      <td>pet</td>\n",
       "      <td>dog</td>\n",
       "      <td>10</td>\n",
       "      <td>carnivore</td>\n",
       "    </tr>\n",
       "    <tr>\n",
       "      <th>2</th>\n",
       "      <td>pet</td>\n",
       "      <td>rabbit</td>\n",
       "      <td>2</td>\n",
       "      <td>herbivore</td>\n",
       "    </tr>\n",
       "    <tr>\n",
       "      <th>3</th>\n",
       "      <td>pet</td>\n",
       "      <td>hamster</td>\n",
       "      <td>1</td>\n",
       "      <td>herbivore</td>\n",
       "    </tr>\n",
       "    <tr>\n",
       "      <th>4</th>\n",
       "      <td>farm\\nanimal</td>\n",
       "      <td>cow</td>\n",
       "      <td>500</td>\n",
       "      <td>herbivore</td>\n",
       "    </tr>\n",
       "    <tr>\n",
       "      <th>5</th>\n",
       "      <td>farm\\nanimal</td>\n",
       "      <td>pig</td>\n",
       "      <td>100</td>\n",
       "      <td>carnivore</td>\n",
       "    </tr>\n",
       "    <tr>\n",
       "      <th>6</th>\n",
       "      <td>farm\\nanimal</td>\n",
       "      <td>horse</td>\n",
       "      <td>700</td>\n",
       "      <td>herbivore</td>\n",
       "    </tr>\n",
       "  </tbody>\n",
       "</table>\n",
       "</div>"
      ],
      "text/plain": [
       "    animal_type   animal  weight       diet\n",
       "0           pet      cat       5  carnivore\n",
       "1           pet      dog      10  carnivore\n",
       "2           pet   rabbit       2  herbivore\n",
       "3           pet  hamster       1  herbivore\n",
       "4  farm\\nanimal      cow     500  herbivore\n",
       "5  farm\\nanimal      pig     100  carnivore\n",
       "6  farm\\nanimal    horse     700  herbivore"
      ]
     },
     "execution_count": 8,
     "metadata": {},
     "output_type": "execute_result"
    }
   ],
   "source": [
    "data[\"animal_type\"] = data[\"animal_type\"].str.replace(' ', '\\n')\n",
    "data"
   ]
  },
  {
   "cell_type": "code",
   "execution_count": 9,
   "id": "9f62f8fb",
   "metadata": {},
   "outputs": [
    {
     "data": {
      "text/html": [
       "   <div id=\"hBVN5M\"></div>\n",
       "   <script type=\"text/javascript\" data-lets-plot-script=\"plot\">\n",
       "       (function() {\n",
       "           var plotSpec={\n",
       "\"data\":{\n",
       "\"animal_type\":[\"pet\",\"pet\",\"pet\",\"pet\",\"farm\\nanimal\",\"farm\\nanimal\",\"farm\\nanimal\"],\n",
       "\"animal\":[\"cat\",\"dog\",\"rabbit\",\"hamster\",\"cow\",\"pig\",\"horse\"],\n",
       "\"weight\":[5.0,10.0,2.0,1.0,500.0,100.0,700.0],\n",
       "\"diet\":[\"carnivore\",\"carnivore\",\"herbivore\",\"herbivore\",\"herbivore\",\"carnivore\",\"herbivore\"]\n",
       "},\n",
       "\"mapping\":{\n",
       "\"x\":\"animal\",\n",
       "\"y\":\"weight\"\n",
       "},\n",
       "\"data_meta\":{\n",
       "},\n",
       "\"theme\":{\n",
       "\"name\":\"bw\",\n",
       "\"panel_grid_minor\":{\n",
       "\"blank\":true\n",
       "}\n",
       "},\n",
       "\"facet\":{\n",
       "\"name\":\"grid\",\n",
       "\"x\":\"animal_type\",\n",
       "\"y\":\"diet\",\n",
       "\"scales\":\"free\",\n",
       "\"x_order\":1.0,\n",
       "\"y_order\":1.0\n",
       "},\n",
       "\"kind\":\"plot\",\n",
       "\"scales\":[],\n",
       "\"layers\":[{\n",
       "\"geom\":\"bar\",\n",
       "\"stat\":\"identity\",\n",
       "\"mapping\":{\n",
       "},\n",
       "\"data_meta\":{\n",
       "},\n",
       "\"data\":{\n",
       "}\n",
       "}],\n",
       "\"metainfo_list\":[]\n",
       "};\n",
       "           var plotContainer = document.getElementById(\"hBVN5M\");\n",
       "           window.letsPlotCall(function() {{\n",
       "               LetsPlot.buildPlotFromProcessedSpecs(plotSpec, -1, -1, plotContainer);\n",
       "           }});\n",
       "       })();\n",
       "   </script>"
      ],
      "text/plain": [
       "<lets_plot.plot.core.PlotSpec at 0x1524a2070>"
      ]
     },
     "execution_count": 9,
     "metadata": {},
     "output_type": "execute_result"
    }
   ],
   "source": [
    "p + facet_grid(x=\"animal_type\", y=\"diet\", scales=\"free\")"
   ]
  },
  {
   "cell_type": "code",
   "execution_count": 10,
   "id": "47d12537",
   "metadata": {},
   "outputs": [
    {
     "data": {
      "text/html": [
       "   <div id=\"yN3low\"></div>\n",
       "   <script type=\"text/javascript\" data-lets-plot-script=\"plot\">\n",
       "       (function() {\n",
       "           var plotSpec={\n",
       "\"data\":{\n",
       "\"animal_type\":[\"pet\",\"pet\",\"pet\",\"pet\",\"farm\\nanimal\",\"farm\\nanimal\",\"farm\\nanimal\"],\n",
       "\"animal\":[\"cat\",\"dog\",\"rabbit\",\"hamster\",\"cow\",\"pig\",\"horse\"],\n",
       "\"weight\":[5.0,10.0,2.0,1.0,500.0,100.0,700.0],\n",
       "\"diet\":[\"carnivore\",\"carnivore\",\"herbivore\",\"herbivore\",\"herbivore\",\"carnivore\",\"herbivore\"]\n",
       "},\n",
       "\"mapping\":{\n",
       "\"x\":\"animal\",\n",
       "\"y\":\"weight\"\n",
       "},\n",
       "\"data_meta\":{\n",
       "},\n",
       "\"theme\":{\n",
       "\"name\":\"bw\",\n",
       "\"panel_grid_minor\":{\n",
       "\"blank\":true\n",
       "}\n",
       "},\n",
       "\"facet\":{\n",
       "\"name\":\"wrap\",\n",
       "\"facets\":[\"animal_type\",\"diet\"],\n",
       "\"ncol\":4.0,\n",
       "\"scales\":\"free\",\n",
       "\"order\":1.0,\n",
       "\"dir\":\"h\"\n",
       "},\n",
       "\"kind\":\"plot\",\n",
       "\"scales\":[],\n",
       "\"layers\":[{\n",
       "\"geom\":\"bar\",\n",
       "\"stat\":\"identity\",\n",
       "\"mapping\":{\n",
       "},\n",
       "\"data_meta\":{\n",
       "},\n",
       "\"data\":{\n",
       "}\n",
       "}],\n",
       "\"metainfo_list\":[]\n",
       "};\n",
       "           var plotContainer = document.getElementById(\"yN3low\");\n",
       "           window.letsPlotCall(function() {{\n",
       "               LetsPlot.buildPlotFromProcessedSpecs(plotSpec, -1, -1, plotContainer);\n",
       "           }});\n",
       "       })();\n",
       "   </script>"
      ],
      "text/plain": [
       "<lets_plot.plot.core.PlotSpec at 0x1524a41f0>"
      ]
     },
     "execution_count": 10,
     "metadata": {},
     "output_type": "execute_result"
    }
   ],
   "source": [
    "p + facet_wrap(facets=[\"animal_type\", \"diet\"], ncol=4, scales=\"free\")"
   ]
  },
  {
   "cell_type": "markdown",
   "id": "9fc96ba4",
   "metadata": {},
   "source": [
    "### Text Justifications"
   ]
  },
  {
   "cell_type": "code",
   "execution_count": 11,
   "id": "47db58e9",
   "metadata": {},
   "outputs": [
    {
     "data": {
      "text/html": [
       "   <div id=\"biOlCV\"></div>\n",
       "   <script type=\"text/javascript\" data-lets-plot-script=\"plot\">\n",
       "       (function() {\n",
       "           var plotSpec={\n",
       "\"data\":{\n",
       "\"animal_type\":[\"pet\",\"pet\",\"pet\",\"pet\",\"farm\\nanimal\",\"farm\\nanimal\",\"farm\\nanimal\"],\n",
       "\"animal\":[\"cat\",\"dog\",\"rabbit\",\"hamster\",\"cow\",\"pig\",\"horse\"],\n",
       "\"weight\":[5.0,10.0,2.0,1.0,500.0,100.0,700.0],\n",
       "\"diet\":[\"carnivore\",\"carnivore\",\"herbivore\",\"herbivore\",\"herbivore\",\"carnivore\",\"herbivore\"]\n",
       "},\n",
       "\"mapping\":{\n",
       "\"x\":\"animal\",\n",
       "\"y\":\"weight\"\n",
       "},\n",
       "\"data_meta\":{\n",
       "},\n",
       "\"theme\":{\n",
       "\"name\":\"bw\",\n",
       "\"panel_grid_minor\":{\n",
       "\"blank\":true\n",
       "},\n",
       "\"strip_text\":{\n",
       "\"hjust\":1.0,\n",
       "\"vjust\":1.0,\n",
       "\"blank\":false\n",
       "}\n",
       "},\n",
       "\"facet\":{\n",
       "\"name\":\"wrap\",\n",
       "\"facets\":[\"animal_type\",\"diet\"],\n",
       "\"ncol\":4.0,\n",
       "\"scales\":\"free\",\n",
       "\"order\":1.0,\n",
       "\"dir\":\"h\"\n",
       "},\n",
       "\"kind\":\"plot\",\n",
       "\"scales\":[],\n",
       "\"layers\":[{\n",
       "\"geom\":\"bar\",\n",
       "\"stat\":\"identity\",\n",
       "\"mapping\":{\n",
       "},\n",
       "\"data_meta\":{\n",
       "},\n",
       "\"data\":{\n",
       "}\n",
       "}],\n",
       "\"metainfo_list\":[]\n",
       "};\n",
       "           var plotContainer = document.getElementById(\"biOlCV\");\n",
       "           window.letsPlotCall(function() {{\n",
       "               LetsPlot.buildPlotFromProcessedSpecs(plotSpec, -1, -1, plotContainer);\n",
       "           }});\n",
       "       })();\n",
       "   </script>"
      ],
      "text/plain": [
       "<lets_plot.plot.core.PlotSpec at 0x1524a6250>"
      ]
     },
     "execution_count": 11,
     "metadata": {},
     "output_type": "execute_result"
    }
   ],
   "source": [
    "p + \\\n",
    "    facet_wrap(facets=[\"animal_type\", \"diet\"], ncol=4, scales=\"free\") + \\\n",
    "    theme(strip_text=element_text(hjust=1, vjust=1))"
   ]
  },
  {
   "cell_type": "markdown",
   "id": "bede7550",
   "metadata": {},
   "source": [
    "### Margins Around the Text Element"
   ]
  },
  {
   "cell_type": "code",
   "execution_count": 12,
   "id": "eb488984",
   "metadata": {},
   "outputs": [
    {
     "data": {
      "text/html": [
       "   <div id=\"XUaCAJ\"></div>\n",
       "   <script type=\"text/javascript\" data-lets-plot-script=\"plot\">\n",
       "       (function() {\n",
       "           var plotSpec={\n",
       "\"data\":{\n",
       "\"animal_type\":[\"pet\",\"pet\",\"pet\",\"pet\",\"farm\\nanimal\",\"farm\\nanimal\",\"farm\\nanimal\"],\n",
       "\"animal\":[\"cat\",\"dog\",\"rabbit\",\"hamster\",\"cow\",\"pig\",\"horse\"],\n",
       "\"weight\":[5.0,10.0,2.0,1.0,500.0,100.0,700.0],\n",
       "\"diet\":[\"carnivore\",\"carnivore\",\"herbivore\",\"herbivore\",\"herbivore\",\"carnivore\",\"herbivore\"]\n",
       "},\n",
       "\"mapping\":{\n",
       "\"x\":\"animal\",\n",
       "\"y\":\"weight\"\n",
       "},\n",
       "\"data_meta\":{\n",
       "},\n",
       "\"theme\":{\n",
       "\"name\":\"bw\",\n",
       "\"panel_grid_minor\":{\n",
       "\"blank\":true\n",
       "},\n",
       "\"strip_text\":{\n",
       "\"hjust\":0.0,\n",
       "\"vjust\":1.0,\n",
       "\"margin\":[10.0,30.0],\n",
       "\"blank\":false\n",
       "}\n",
       "},\n",
       "\"facet\":{\n",
       "\"name\":\"grid\",\n",
       "\"x\":\"animal_type\",\n",
       "\"y\":\"diet\",\n",
       "\"scales\":\"free\",\n",
       "\"x_order\":1.0,\n",
       "\"y_order\":1.0\n",
       "},\n",
       "\"kind\":\"plot\",\n",
       "\"scales\":[],\n",
       "\"layers\":[{\n",
       "\"geom\":\"bar\",\n",
       "\"stat\":\"identity\",\n",
       "\"mapping\":{\n",
       "},\n",
       "\"data_meta\":{\n",
       "},\n",
       "\"data\":{\n",
       "}\n",
       "}],\n",
       "\"metainfo_list\":[]\n",
       "};\n",
       "           var plotContainer = document.getElementById(\"XUaCAJ\");\n",
       "           window.letsPlotCall(function() {{\n",
       "               LetsPlot.buildPlotFromProcessedSpecs(plotSpec, -1, -1, plotContainer);\n",
       "           }});\n",
       "       })();\n",
       "   </script>"
      ],
      "text/plain": [
       "<lets_plot.plot.core.PlotSpec at 0x1524a7160>"
      ]
     },
     "execution_count": 12,
     "metadata": {},
     "output_type": "execute_result"
    }
   ],
   "source": [
    "p + \\\n",
    "    facet_grid(x=\"animal_type\", y=\"diet\", scales=\"free\") + \\\n",
    "    theme(strip_text=element_text(margin=[10, 30], hjust=0, vjust=1))"
   ]
  }
 ],
 "metadata": {
  "kernelspec": {
   "display_name": "Python 3 (ipykernel)",
   "language": "python",
   "name": "python3"
  },
  "language_info": {
   "codemirror_mode": {
    "name": "ipython",
    "version": 3
   },
   "file_extension": ".py",
   "mimetype": "text/x-python",
   "name": "python",
   "nbconvert_exporter": "python",
   "pygments_lexer": "ipython3",
   "version": "3.8.19"
  }
 },
 "nbformat": 4,
 "nbformat_minor": 5
}
